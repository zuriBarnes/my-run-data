{
  "nbformat": 4,
  "nbformat_minor": 0,
  "metadata": {
    "colab": {
      "provenance": [],
      "authorship_tag": "ABX9TyMMdnq1CbSU/UuLkoyYySWc",
      "include_colab_link": true
    },
    "kernelspec": {
      "name": "python3",
      "display_name": "Python 3"
    },
    "language_info": {
      "name": "python"
    }
  },
  "cells": [
    {
      "cell_type": "markdown",
      "metadata": {
        "id": "view-in-github",
        "colab_type": "text"
      },
      "source": [
        "<a href=\"https://colab.research.google.com/github/zuriBarnes/my-run-data/blob/main/runData.ipynb\" target=\"_parent\"><img src=\"https://colab.research.google.com/assets/colab-badge.svg\" alt=\"Open In Colab\"/></a>"
      ]
    },
    {
      "cell_type": "code",
      "execution_count": null,
      "metadata": {
        "colab": {
          "base_uri": "https://localhost:8080/"
        },
        "id": "1lveNhWJ12_G",
        "outputId": "6d19d4b8-94e8-4d5c-f73b-929ec061acd9"
      },
      "outputs": [
        {
          "output_type": "stream",
          "name": "stdout",
          "text": [
            "  Runs   Mile\n",
            "0  Mon  12.00\n",
            "1  Wed  12.34\n",
            "2  Fri  11.23\n"
          ]
        }
      ],
      "source": [
        "import pandas as pd\n",
        "why_i_run = ['Mon', 'Wed', 'Fri']\n",
        "my_runs = {\n",
        "    'Runs': why_i_run,\n",
        "    'Mile': [12.00, 12.34, 11.23]\n",
        "}\n",
        "test = pd.DataFrame(my_runs)\n",
        "print(my_runs['Mile'])\n"
      ]
    },
    {
      "cell_type": "code",
      "source": [],
      "metadata": {
        "id": "JQ2wbe3E4Pe9"
      },
      "execution_count": null,
      "outputs": []
    }
  ]
}